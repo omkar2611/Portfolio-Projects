{
 "cells": [
  {
   "cell_type": "markdown",
   "id": "d553a2c4",
   "metadata": {},
   "source": [
    "## Web Scraping using BeautifulSoup "
   ]
  },
  {
   "cell_type": "markdown",
   "id": "7fbc78db",
   "metadata": {},
   "source": [
    "The below code scrapes the Amazon webpage. The URL contains the details of the book selling on Amazon Website. \n",
    "The code scrapes the details of the Books like, 'Title','Price','Publisher, 'Language' and other details. Finally the details are stored into a '.csv' file."
   ]
  },
  {
   "cell_type": "code",
   "execution_count": 218,
   "id": "9e117564",
   "metadata": {},
   "outputs": [],
   "source": [
    "# import libraries\n",
    "\n",
    "from bs4 import BeautifulSoup\n",
    "import re\n",
    "import csv\n",
    "import requests\n",
    "import smtplib\n",
    "import time\n",
    "import datetime"
   ]
  },
  {
   "cell_type": "code",
   "execution_count": 219,
   "id": "702fd77b",
   "metadata": {},
   "outputs": [
    {
     "name": "stdout",
     "output_type": "stream",
     "text": [
      "<Response [200]>\n"
     ]
    }
   ],
   "source": [
    "# Connection URL\n",
    "URL = 'https://www.amazon.in/Business-Intelligence-Analytics-Data-Science/dp/9353067022/ref=sr_1_1_sspa?keywords=data+analytics+books&qid=1652177305&sprefix=data+ana%2Caps%2C104&sr=8-1-spons&psc=1&spLa=ZW5jcnlwdGVkUXVhbGlmaWVyPUFRNTRWS1IwSlI3M1ImZW5jcnlwdGVkSWQ9QTA4ODY1NzczU1FCVDFVRVJaT1czJmVuY3J5cHRlZEFkSWQ9QTEwMjU5ODkxM0NFN1hFUU9PWlROJndpZGdldE5hbWU9c3BfYXRmJmFjdGlvbj1jbGlja1JlZGlyZWN0JmRvTm90TG9nQ2xpY2s9dHJ1ZQ=='\n",
    "# User-Agent from \"https://httpbin.org/get\"\n",
    "headers = {\"User-Agent\": \"Mozilla/5.0 (Macintosh; Intel Mac OS X 10_15_7) AppleWebKit/537.36 (KHTML, like Gecko) Chrome/101.0.4951.41 Safari/537.36\", \"Accept-Encoding\":\"gzip, deflate\", \"Accept\":\"text/html,application/xhtml+xml,application/xml;q=0.9,image/avif,image/webp,image/apng,*/*;q=0.8,application/signed-exchange;v=b3;q=0.9\", \"DNT\":\"1\",\"Connection\":\"close\", \"Upgrade-Insecure-Requests\":\"1\"}\n",
    "\n",
    "# Sending request\n",
    "page = requests.get(URL, headers=headers)\n",
    "\n",
    "# Checking response\n",
    "print(page)"
   ]
  },
  {
   "cell_type": "code",
   "execution_count": 220,
   "id": "42c3acaf",
   "metadata": {},
   "outputs": [],
   "source": [
    "soup = BeautifulSoup(page.content, \"html.parser\")\n",
    "# print(soup.prettify())"
   ]
  },
  {
   "cell_type": "markdown",
   "id": "3bec4a37",
   "metadata": {},
   "source": [
    "<b>The details of the webpage can change, which can affect the code. Hence, a local copy of webpage is created from which scraping will be conducted</b>"
   ]
  },
  {
   "cell_type": "code",
   "execution_count": 221,
   "id": "84609cc7",
   "metadata": {},
   "outputs": [],
   "source": [
    "# Writing HTML to a file\n",
    "out = open(\"amazon_page.html\",\"w\",encoding=\"utf-8\")\n",
    "out.write(str(soup))\n",
    "out.close()"
   ]
  },
  {
   "cell_type": "code",
   "execution_count": 222,
   "id": "a029f2ff",
   "metadata": {},
   "outputs": [],
   "source": [
    "# Reading from HTML(Local) file\n",
    "soup = BeautifulSoup(open(\"amazon_page.html\",encoding=\"utf-8\"), \"html.parser\")\n",
    "# print(soup.prettify())"
   ]
  },
  {
   "cell_type": "markdown",
   "id": "4dccd400",
   "metadata": {},
   "source": [
    "### Scraping Basic Details"
   ]
  },
  {
   "cell_type": "code",
   "execution_count": 223,
   "id": "d808c908",
   "metadata": {},
   "outputs": [
    {
     "name": "stdout",
     "output_type": "stream",
     "text": [
      "Title:   Business Intelligence Analytics and Data Science: A Managerial Perspective  \n",
      "Price:  64000\n"
     ]
    }
   ],
   "source": [
    "title = soup.find(id = 'productTitle').get_text()             # Scraping Title\n",
    "price = soup.find(id = 'price').get_text()                    # Scraping Price\n",
    "title = re.sub(r\"[^a-zA-Z0-9: ]\",\"\",title)\n",
    "title = title.split('Fourth', 1)[0]\n",
    "price = re.sub(r\"[^a-zA-Z0-9: ]\",\"\",price)\n",
    "print(\"Title: \", title)\n",
    "print(\"Price: \", price)\n",
    "\n",
    "d = dict([('Title',title),('Price',price)])                   # Saving the details into dictionary"
   ]
  },
  {
   "cell_type": "code",
   "execution_count": 224,
   "id": "204c539c",
   "metadata": {},
   "outputs": [
    {
     "name": "stdout",
     "output_type": "stream",
     "text": [
      "  Brchapter 1 An overview of business intelligence analytics and data science brChapter 2 descriptive analytics I: nature of data statistical modeling and visualization brChapter 3 descriptive analytics II: business intelligence and data warehousing brChapter 4 predictive analytics I: data mining process methods and algorithms brChapter 5 predictive analytics II: text web and social media brChapter 6 prescriptive analytics: optimization and simulation brChapter 7 big data concepts and tools brChapter 8 future trends privacy and managerial considerations in analytics  Read more \n"
     ]
    }
   ],
   "source": [
    "describe = []\n",
    "for element in soup.find(id = 'bookDescription_feature_div'):  # Scraping Description\n",
    "    temp = element.get_text()\n",
    "    describe.append(temp)\n",
    "description = describe[1]\n",
    "description = re.sub(r\"[^a-zA-Z0-9: ]\",\"\",description)\n",
    "d['Description'] = description.strip()\n",
    "print(description)"
   ]
  },
  {
   "cell_type": "markdown",
   "id": "e15e22fd",
   "metadata": {},
   "source": [
    "### Scraping further details"
   ]
  },
  {
   "cell_type": "code",
   "execution_count": 225,
   "id": "ecaf2b5a",
   "metadata": {},
   "outputs": [],
   "source": [
    "details = soup.find('ul', attrs = {'class':'a-unordered-list a-nostyle a-vertical a-spacing-none detail-bullet-list'})\n",
    "inf = []\n",
    "info = []\n",
    "for child in details.children:\n",
    "    inf.append(child.get_text())\n",
    "for element in inf:\n",
    "    element = re.sub(r\"[^a-zA-Z0-9: ]\",\"\",element)\n",
    "    info.append(element)\n",
    "info = list(filter(str.strip,info))\n",
    "\n",
    "keys = [i.split(':', 1)[0] for i in info]\n",
    "values = [i.split(':', 1)[1] for i in info]"
   ]
  },
  {
   "cell_type": "code",
   "execution_count": 226,
   "id": "db3b41dc",
   "metadata": {},
   "outputs": [],
   "source": [
    "key = []\n",
    "for element in keys:\n",
    "    element = re.sub(\" +\", \" \",element)\n",
    "    key.append(element)\n",
    "value = []\n",
    "for element in values:\n",
    "    element = re.sub(\" +\", \" \",element)\n",
    "    value.append(element)"
   ]
  },
  {
   "cell_type": "code",
   "execution_count": 227,
   "id": "696f7352",
   "metadata": {},
   "outputs": [
    {
     "name": "stdout",
     "output_type": "stream",
     "text": [
      "{'Title': ' Business Intelligence Analytics and Data Science: A Managerial Perspective  ', 'Price': '64000', 'Description': 'Brchapter 1 An overview of business intelligence analytics and data science brChapter 2 descriptive analytics I: nature of data statistical modeling and visualization brChapter 3 descriptive analytics II: business intelligence and data warehousing brChapter 4 predictive analytics I: data mining process methods and algorithms brChapter 5 predictive analytics II: text web and social media brChapter 6 prescriptive analytics: optimization and simulation brChapter 7 big data concepts and tools brChapter 8 future trends privacy and managerial considerations in analytics  Read more', ' Publisher ': ' Pearson Education Fourth edition 25 March 2019 ', ' Language ': ' English ', ' Paperback ': ' 512 pages ', ' ISBN10 ': ' 9353067022 ', ' ISBN13 ': ' 9789353067021 ', ' Item Weight ': ' 748 g ', ' Dimensions ': ' 203 x 254 x 47 cm ', ' Country of Origin ': ' India '}\n"
     ]
    }
   ],
   "source": [
    "for i in range(0,len(key)):\n",
    "    d[key[i]] = value[i]\n",
    "\n",
    "print(d)"
   ]
  },
  {
   "cell_type": "markdown",
   "id": "b1f75bfc",
   "metadata": {},
   "source": [
    "### Saving the data into CSV file"
   ]
  },
  {
   "cell_type": "code",
   "execution_count": 228,
   "id": "f55705cd",
   "metadata": {},
   "outputs": [],
   "source": [
    "with open('book_data.csv', 'w') as f:\n",
    "    for key in d.keys():\n",
    "        f.write(\"%s, %s\\n\" % (key, d[key]))"
   ]
  },
  {
   "cell_type": "code",
   "execution_count": null,
   "id": "013f9248",
   "metadata": {},
   "outputs": [],
   "source": []
  }
 ],
 "metadata": {
  "kernelspec": {
   "display_name": "Python 3 (ipykernel)",
   "language": "python",
   "name": "python3"
  },
  "language_info": {
   "codemirror_mode": {
    "name": "ipython",
    "version": 3
   },
   "file_extension": ".py",
   "mimetype": "text/x-python",
   "name": "python",
   "nbconvert_exporter": "python",
   "pygments_lexer": "ipython3",
   "version": "3.9.7"
  }
 },
 "nbformat": 4,
 "nbformat_minor": 5
}
